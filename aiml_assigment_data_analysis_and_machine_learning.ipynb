{
  "nbformat": 4,
  "nbformat_minor": 0,
  "metadata": {
    "colab": {
      "provenance": []
    },
    "kernelspec": {
      "name": "python3",
      "display_name": "Python 3"
    },
    "language_info": {
      "name": "python"
    }
  },
  "cells": [
    {
      "cell_type": "code",
      "execution_count": 3,
      "metadata": {
        "colab": {
          "base_uri": "https://localhost:8080/"
        },
        "id": "LeypZXw1wLu0",
        "outputId": "0766d1e8-1e63-4716-a8e2-60ab0cf5c180"
      },
      "outputs": [
        {
          "output_type": "stream",
          "name": "stdout",
          "text": [
            "Missing values:\n",
            "MedInc        0\n",
            "HouseAge      0\n",
            "AveRooms      0\n",
            "AveBedrms     0\n",
            "Population    0\n",
            "AveOccup      0\n",
            "Latitude      0\n",
            "Longitude     0\n",
            "PRICE         0\n",
            "dtype: int64\n",
            "\n",
            "Median Income statistics:\n",
            "Mean: 3.87\n",
            "Median: 3.53\n",
            "\n",
            "Model Evaluation:\n",
            "Mean Squared Error: 0.56\n",
            "R-squared Score: 0.58\n",
            "\n",
            "Feature importance:\n",
            "      feature  importance\n",
            "3   avebedrms    0.783145\n",
            "0      medinc    0.448675\n",
            "1    houseage    0.009724\n",
            "4  population   -0.000002\n",
            "5    aveoccup   -0.003526\n",
            "2    averooms   -0.123323\n",
            "6    latitude   -0.419792\n",
            "7   longitude   -0.433708\n"
          ]
        }
      ],
      "source": [
        "import pandas as pd\n",
        "import numpy as np\n",
        "from sklearn.model_selection import train_test_split\n",
        "from sklearn.linear_model import LinearRegression\n",
        "from sklearn.metrics import mean_squared_error, r2_score\n",
        "from sklearn.datasets import fetch_california_housing\n",
        "\n",
        "# 1. Data Loading and Cleaning\n",
        "housing = fetch_california_housing()\n",
        "df = pd.DataFrame(housing.data, columns=housing.feature_names)\n",
        "df['PRICE'] = housing.target\n",
        "\n",
        "# Check for missing values\n",
        "print(\"Missing values:\")\n",
        "print(df.isnull().sum())\n",
        "\n",
        "# 2. String Manipulation\n",
        "# Clean column names (convert to lowercase and remove spaces)\n",
        "df.columns = df.columns.str.lower().str.replace(' ', '_')\n",
        "\n",
        "# 3. Use NumPy\n",
        "# Convert 'MedInc' (median income) column to NumPy array and calculate statistics\n",
        "income_array = df['medinc'].values\n",
        "print(\"\\nMedian Income statistics:\")\n",
        "print(f\"Mean: {np.mean(income_array):.2f}\")\n",
        "print(f\"Median: {np.median(income_array):.2f}\")\n",
        "\n",
        "# 4. Data Splitting\n",
        "X = df.drop('price', axis=1)\n",
        "y = df['price']\n",
        "X_train, X_test, y_train, y_test = train_test_split(X, y, test_size=0.2, random_state=42)\n",
        "\n",
        "# 5. Build a Model\n",
        "model = LinearRegression()\n",
        "model.fit(X_train, y_train)\n",
        "\n",
        "# Make predictions\n",
        "y_pred = model.predict(X_test)\n",
        "\n",
        "# Evaluate the model\n",
        "mse = mean_squared_error(y_test, y_pred)\n",
        "r2 = r2_score(y_test, y_pred)\n",
        "\n",
        "print(\"\\nModel Evaluation:\")\n",
        "print(f\"Mean Squared Error: {mse:.2f}\")\n",
        "print(f\"R-squared Score: {r2:.2f}\")\n",
        "\n",
        "# Feature importance\n",
        "feature_importance = pd.DataFrame({'feature': X.columns, 'importance': model.coef_})\n",
        "feature_importance = feature_importance.sort_values('importance', ascending=False)\n",
        "print(\"\\nFeature importance:\")\n",
        "print(feature_importance)"
      ]
    }
  ]
}