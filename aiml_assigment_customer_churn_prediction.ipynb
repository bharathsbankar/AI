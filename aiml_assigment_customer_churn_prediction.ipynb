{
  "nbformat": 4,
  "nbformat_minor": 0,
  "metadata": {
    "colab": {
      "provenance": []
    },
    "kernelspec": {
      "name": "python3",
      "display_name": "Python 3"
    },
    "language_info": {
      "name": "python"
    }
  },
  "cells": [
    {
      "cell_type": "code",
      "execution_count": 1,
      "metadata": {
        "colab": {
          "base_uri": "https://localhost:8080/"
        },
        "id": "fysVdO7KtnCj",
        "outputId": "c833d9ef-9cc7-4da1-883c-47ab8ed81572"
      },
      "outputs": [
        {
          "output_type": "stream",
          "name": "stdout",
          "text": [
            "Aggregated Data:\n",
            "   churn        age    tenure\n",
            "0      0  49.929630  4.981481\n",
            "1      1  49.547368  4.784211\n",
            "\n",
            "Data Split Sizes:\n",
            "Training set: 800 samples\n",
            "Testing set: 200 samples\n",
            "\n",
            "Model Performance:\n",
            "Accuracy: 0.8250\n"
          ]
        }
      ],
      "source": [
        "import pandas as pd\n",
        "import numpy as np\n",
        "from sklearn.model_selection import train_test_split\n",
        "from sklearn.linear_model import LogisticRegression\n",
        "from sklearn.metrics import accuracy_score\n",
        "\n",
        "# 1. Data Aggregation\n",
        "# Create a sample customer dataset\n",
        "np.random.seed(42)\n",
        "data = {\n",
        "    'customer_id': range(1000),\n",
        "    'age': np.random.randint(18, 80, 1000),\n",
        "    'tenure': np.random.randint(1, 10, 1000),\n",
        "    'churn': np.random.choice([0, 1], 1000, p=[0.8, 0.2])\n",
        "}\n",
        "df = pd.DataFrame(data)\n",
        "\n",
        "# Aggregate data to find average age and tenure for churned and non-churned customers\n",
        "churn_agg = df.groupby('churn').agg({\n",
        "    'age': 'mean',\n",
        "    'tenure': 'mean'\n",
        "}).reset_index()\n",
        "\n",
        "print(\"Aggregated Data:\")\n",
        "print(churn_agg)\n",
        "\n",
        "# 2. Data Splitting\n",
        "# Split the dataset into features (X) and target variable (y)\n",
        "X = df[['age', 'tenure']]\n",
        "y = df['churn']\n",
        "\n",
        "# Use train_test_split to divide data into training (80%) and testing (20%) sets\n",
        "X_train, X_test, y_train, y_test = train_test_split(X, y, test_size=0.2, random_state=42)\n",
        "\n",
        "print(\"\\nData Split Sizes:\")\n",
        "print(f\"Training set: {X_train.shape[0]} samples\")\n",
        "print(f\"Testing set: {X_test.shape[0]} samples\")\n",
        "\n",
        "# 3. Model Training\n",
        "# Choose Logistic Regression as the classification algorithm\n",
        "model = LogisticRegression(random_state=42)\n",
        "\n",
        "# Train the model on the training set\n",
        "model.fit(X_train, y_train)\n",
        "\n",
        "# Evaluate model performance on the test set\n",
        "y_pred = model.predict(X_test)\n",
        "accuracy = accuracy_score(y_test, y_pred)\n",
        "\n",
        "print(\"\\nModel Performance:\")\n",
        "print(f\"Accuracy: {accuracy:.4f}\")"
      ]
    }
  ]
}